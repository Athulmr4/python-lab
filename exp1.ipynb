{
 "cells": [
  {
   "cell_type": "code",
   "execution_count": null,
   "id": "65e8c0d3",
   "metadata": {},
   "outputs": [],
   "source": [
    "\n"
   ]
  },
  {
   "cell_type": "code",
   "execution_count": null,
   "id": "4d399905",
   "metadata": {},
   "outputs": [
    {
     "name": "stdout",
     "output_type": "stream",
     "text": [
      "Enter the number of digits6\n"
     ]
    }
   ],
   "source": [
    "n=int(input(\"Enter the number of digits\"))\n",
    "if n>0:\n",
    "    number=int(input(f\"Enter a {n} -digit integer:\"))\n",
    "    if number>=10**(n-1) and number<10**n:\n",
    "        for i in range(n):\n",
    "            digit=number//(10**(n-1))\n",
    "            print(digit)\n",
    "            number%=10**(n-1)\n",
    "            n-=1\n",
    "    else:\n",
    "        print(f\"please enter a {n}- digit integer\")\n",
    "else: \n",
    "    print(\"please enter a valid number of digits(greater than 0)\")"
   ]
  },
  {
   "cell_type": "code",
   "execution_count": 5,
   "id": "453869b9",
   "metadata": {},
   "outputs": [
    {
     "name": "stdout",
     "output_type": "stream",
     "text": [
      "Entre the first number:10\n",
      "Entre the second number:5\n",
      "Entre the third number:7\n",
      "Entre the fourth number:3\n",
      " The sorted numbers are: 3 5 7 10\n"
     ]
    }
   ],
   "source": [
    "a=int(input(\"Entre the first number:\"))\n",
    "b=int(input(\"Entre the second number:\"))\n",
    "c=int(input(\"Entre the third number:\"))\n",
    "d=int(input(\"Entre the fourth number:\"))\n",
    "if a>b: a, b=b, a\n",
    "if c>d: c, d=d, c\n",
    "if a>c: a, c=c, a\n",
    "if b>d: b, d=d, b\n",
    "if b>c: b, c=c, b\n",
    "print(\" The sorted numbers are:\",a,b,c,d)    "
   ]
  },
  {
   "cell_type": "code",
   "execution_count": null,
   "id": "18c17ab4",
   "metadata": {},
   "outputs": [],
   "source": []
  }
 ],
 "metadata": {
  "kernelspec": {
   "display_name": "Python 3 (ipykernel)",
   "language": "python",
   "name": "python3"
  },
  "language_info": {
   "codemirror_mode": {
    "name": "ipython",
    "version": 3
   },
   "file_extension": ".py",
   "mimetype": "text/x-python",
   "name": "python",
   "nbconvert_exporter": "python",
   "pygments_lexer": "ipython3",
   "version": "3.10.9"
  }
 },
 "nbformat": 4,
 "nbformat_minor": 5
}
